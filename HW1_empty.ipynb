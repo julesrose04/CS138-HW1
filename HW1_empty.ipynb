{
 "cells": [
  {
   "cell_type": "markdown",
   "metadata": {
    "id": "1AatwNP6nfHN"
   },
   "source": [
    "# Problem 1: Think like a computer\n",
    "\n",
    "**Part a**\n",
    "\n",
    "Using Markdown, write an algorithm for cleaning your teeth. Don't forget to both brush and floss! Try to be as explicit as possible in each step, so that someone who has no experience brushing their teeth could follow along."
   ]
  },
  {
   "cell_type": "markdown",
   "metadata": {},
   "source": [
    "1. You first want to start by grabbing your clean toothbrush in your hand\n",
    "2.  make sure to rinse the bristles with a good amount of warm water\n",
    "3.  Next, you will grab your desired toothpaste and squeeze the bottle on top of your toothbrushs' bristles\n",
    "4.  You will want to put about a fingertip length of toothpaste\n",
    "5.  Then close the toothpaste bottle and return it to its previous home\n",
    "6.  Next, you will start putting the toothbrush in your mouth with the bristles facing your teeth\n",
    "7. Using a back and forth motion on the front of your teeth, back of your teeth, and on top as well\n",
    "8. After 1.5-2 minutes have passed you may remove the toothbrush from your mouth\n",
    "9. Once the toothbrush is removed from your mouth, rinse the toothbrush bristles and handle well.\n",
    "10. You may have toothpaste on your mouth, so grab a towel and wipe your mouth if needed.\n",
    "11. Next, grab a floss pic from wherever they are stored\n",
    "12. Once you have the floss pic, start by inserted the floss between each of your teeth, wiggling back and forth for about 2 seconds for each tooth\n",
    "13. Remove the floss from your tooth then proceed onto the next tooth\n",
    "14. Continue this until you have flossed every tooth.\n",
    "15. Once completed, throw floss pic away in the trash can"
   ]
  },
  {
   "cell_type": "markdown",
   "metadata": {
    "id": "VOh8f21LoXo5"
   },
   "source": [
    "**Part b**\n",
    "\n",
    "Write your own algorithm using Markdown for a routine you regularly perform, whether it be related to school, work, entertainment, or daily life."
   ]
  },
  {
   "cell_type": "code",
   "execution_count": null,
   "metadata": {
    "id": "cVCSlg5jomLj"
   },
   "outputs": [],
   "source": []
  },
  {
   "cell_type": "markdown",
   "metadata": {
    "id": "gE8csQCjortC"
   },
   "source": [
    "# Problem 2: Have Python do your math homework\n",
    "\n",
    "**Part a**\n",
    "\n",
    "Use Python to perform the tipping algorithm from lecture for a bill of $25.62. Make sure you remember to **round two decimals places**. You may need to use functions from the `math` package. Try **two different rounding schemes**: one where you round to the nearest cent, and one where you round **up** to the next dollar.\n",
    "\n",
    "Save the bill as variable `bill` and the tip as variable `tip`. Print `tip` to the screen at the end.\n",
    "\n",
    "If you need help, try Googling on Stack Overflow."
   ]
  },
  {
   "cell_type": "code",
   "execution_count": 13,
   "metadata": {
    "colab": {
     "base_uri": "https://localhost:8080/"
    },
    "executionInfo": {
     "elapsed": 311,
     "status": "ok",
     "timestamp": 1622586067619,
     "user": {
      "displayName": "Chad D Curtis",
      "photoUrl": "https://lh3.googleusercontent.com/a-/AOh14GjrRHD3JFXnWy5UBy7acgXv5yeRj3MtdmY1FWrj=s64",
      "userId": "09613510218357708136"
     },
     "user_tz": 420
    },
    "id": "-iUvnqcxpFox",
    "outputId": "a7ca51b4-ff29-477a-a30b-b83499e2b478"
   },
   "outputs": [
    {
     "data": {
      "text/plain": [
       "6"
      ]
     },
     "execution_count": 13,
     "metadata": {},
     "output_type": "execute_result"
    }
   ],
   "source": [
    "import math\n",
    "\n",
    "bill = 25.62\n",
    "tip = 0.2 * bill\n",
    "round(tip, 8)\n",
    "math.ceil(tip)"
   ]
  },
  {
   "cell_type": "markdown",
   "metadata": {
    "id": "ZR41tJGxqtlh"
   },
   "source": [
    "**Part b**\n",
    "\n",
    "Use Python to perform a math problem from a one of your math classes. You should implement at least two functions from the `math` package. Make sure use Python comments to document what you are doing."
   ]
  },
  {
   "cell_type": "code",
   "execution_count": 37,
   "metadata": {
    "id": "IE_GHNLusaOA"
   },
   "outputs": [
    {
     "name": "stdout",
     "output_type": "stream",
     "text": [
      "The mean of these three numbers is {6.0}\n"
     ]
    }
   ],
   "source": [
    "#Calculate the area of a circle with a radius of 7 units.\n"
   ]
  },
  {
   "cell_type": "markdown",
   "metadata": {},
   "source": [
    "# Problem 3: Class choice\n",
    "\n",
    "As a class, we will design our own problem during the homework walkthrough. The problem will be posted to the Slack channel, as well as the recording for the given week."
   ]
  },
  {
   "cell_type": "code",
   "execution_count": 55,
   "metadata": {},
   "outputs": [
    {
     "name": "stdout",
     "output_type": "stream",
     "text": [
      "The standard deviation of the three numbers is {2.943920288775949}\n"
     ]
    }
   ],
   "source": [
    "#Write a program that calculates the mean of three input numbers.\n",
    "#Write a program that calculates the standard deviation of three input numbers. \n",
    "import math\n",
    "x1 = 2\n",
    "x2 = 7\n",
    "x3 = 9\n",
    "\n",
    "mean = (x1 + x2 + x3) / 3\n",
    "#print(\"The mean of these three numbers is\", {mean})  (Used this to make sure it was calculating the mean correctly)\n",
    "\n",
    "squaredDev1 = (x1 - mean)**2                   \n",
    "squaredDev2 = (x2 - mean)**2\n",
    "squaredDev3 = (x3 - mean)**2\n",
    "\n",
    "squaredDevMean = (squaredDev1 + squaredDev2 + squaredDev3) / 3\n",
    "\n",
    "StdDev = math.sqrt(squaredDevMean)\n",
    "\n",
    "print(\"The standard deviation of the three numbers is\", {StdDev})\n",
    "#round(StdDev)          Also wanted to see if the rounding would work here but I understand that's not part of the assignment"
   ]
  },
  {
   "cell_type": "markdown",
   "metadata": {},
   "source": [
    "# Problem 4: Reflection\n",
    "\n",
    "Please write 3-5 *in your own words* what you learned during this assignment."
   ]
  },
  {
   "cell_type": "code",
   "execution_count": null,
   "metadata": {},
   "outputs": [],
   "source": []
  }
 ],
 "metadata": {
  "colab": {
   "authorship_tag": "ABX9TyOIKbI9PXk2QtDo51xco9HS",
   "name": "HW1.ipynb",
   "provenance": []
  },
  "kernelspec": {
   "display_name": "Python 3 (ipykernel)",
   "language": "python",
   "name": "python3"
  },
  "language_info": {
   "codemirror_mode": {
    "name": "ipython",
    "version": 3
   },
   "file_extension": ".py",
   "mimetype": "text/x-python",
   "name": "python",
   "nbconvert_exporter": "python",
   "pygments_lexer": "ipython3",
   "version": "3.12.4"
  }
 },
 "nbformat": 4,
 "nbformat_minor": 4
}
